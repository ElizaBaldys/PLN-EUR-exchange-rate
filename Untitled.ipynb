{
 "cells": [
  {
   "cell_type": "code",
   "execution_count": 48,
   "id": "ed3e51f2-6cf6-485e-ad43-16998e756a8c",
   "metadata": {},
   "outputs": [],
   "source": [
    "import statsmodels.formula.api as smf\n",
    "import statistics as st\n",
    "import pandas as pd\n",
    "import numpy as np\n",
    "import matplotlib.pyplot as plt\n",
    "from datetime import datetime, timedelta, time\n",
    "%matplotlib inline"
   ]
  },
  {
   "cell_type": "code",
   "execution_count": 49,
   "id": "2d657bf4-35bd-43a0-9648-1a5a1db537a5",
   "metadata": {
    "scrolled": true
   },
   "outputs": [],
   "source": [
    "pln = pd.read_csv('plneur_d.csv', encoding=\"ISO-8859-1\")\n",
    "# Import data from stooq.com\n",
    "pln.index = pd.to_datetime(pln['Date'],format=\"%d/%m/%Y\")\n",
    "# Date is an index of Close. This line let us make x asis as Date."
   ]
  },
  {
   "cell_type": "code",
   "execution_count": 50,
   "id": "b16f9147-b7ad-412c-9ece-8d19b5d60b51",
   "metadata": {
    "scrolled": true
   },
   "outputs": [
    {
     "data": {
      "text/html": [
       "<div>\n",
       "<style scoped>\n",
       "    .dataframe tbody tr th:only-of-type {\n",
       "        vertical-align: middle;\n",
       "    }\n",
       "\n",
       "    .dataframe tbody tr th {\n",
       "        vertical-align: top;\n",
       "    }\n",
       "\n",
       "    .dataframe thead th {\n",
       "        text-align: right;\n",
       "    }\n",
       "</style>\n",
       "<table border=\"1\" class=\"dataframe\">\n",
       "  <thead>\n",
       "    <tr style=\"text-align: right;\">\n",
       "      <th></th>\n",
       "      <th>Date</th>\n",
       "      <th>Open</th>\n",
       "      <th>High</th>\n",
       "      <th>Low</th>\n",
       "      <th>Close</th>\n",
       "    </tr>\n",
       "    <tr>\n",
       "      <th>Date</th>\n",
       "      <th></th>\n",
       "      <th></th>\n",
       "      <th></th>\n",
       "      <th></th>\n",
       "      <th></th>\n",
       "    </tr>\n",
       "  </thead>\n",
       "  <tbody>\n",
       "    <tr>\n",
       "      <th>2000-02-02</th>\n",
       "      <td>02/02/2000</td>\n",
       "      <td>0.24215</td>\n",
       "      <td>0.24215</td>\n",
       "      <td>0.24215</td>\n",
       "      <td>0.24215</td>\n",
       "    </tr>\n",
       "    <tr>\n",
       "      <th>2000-02-03</th>\n",
       "      <td>03/02/2000</td>\n",
       "      <td>0.24329</td>\n",
       "      <td>0.24329</td>\n",
       "      <td>0.24329</td>\n",
       "      <td>0.24329</td>\n",
       "    </tr>\n",
       "    <tr>\n",
       "      <th>2000-02-04</th>\n",
       "      <td>04/02/2000</td>\n",
       "      <td>0.24180</td>\n",
       "      <td>0.24180</td>\n",
       "      <td>0.24180</td>\n",
       "      <td>0.24180</td>\n",
       "    </tr>\n",
       "    <tr>\n",
       "      <th>2000-02-07</th>\n",
       "      <td>07/02/2000</td>\n",
       "      <td>0.24403</td>\n",
       "      <td>0.24403</td>\n",
       "      <td>0.24403</td>\n",
       "      <td>0.24403</td>\n",
       "    </tr>\n",
       "    <tr>\n",
       "      <th>2000-02-08</th>\n",
       "      <td>08/02/2000</td>\n",
       "      <td>0.24476</td>\n",
       "      <td>0.24476</td>\n",
       "      <td>0.24476</td>\n",
       "      <td>0.24476</td>\n",
       "    </tr>\n",
       "  </tbody>\n",
       "</table>\n",
       "</div>"
      ],
      "text/plain": [
       "                  Date     Open     High      Low    Close\n",
       "Date                                                      \n",
       "2000-02-02  02/02/2000  0.24215  0.24215  0.24215  0.24215\n",
       "2000-02-03  03/02/2000  0.24329  0.24329  0.24329  0.24329\n",
       "2000-02-04  04/02/2000  0.24180  0.24180  0.24180  0.24180\n",
       "2000-02-07  07/02/2000  0.24403  0.24403  0.24403  0.24403\n",
       "2000-02-08  08/02/2000  0.24476  0.24476  0.24476  0.24476"
      ]
     },
     "execution_count": 50,
     "metadata": {},
     "output_type": "execute_result"
    }
   ],
   "source": [
    "pln.head()"
   ]
  },
  {
   "cell_type": "code",
   "execution_count": 51,
   "id": "fa23636b-b8bd-451d-84a1-eddae69d65cd",
   "metadata": {},
   "outputs": [
    {
     "data": {
      "text/html": [
       "<div>\n",
       "<style scoped>\n",
       "    .dataframe tbody tr th:only-of-type {\n",
       "        vertical-align: middle;\n",
       "    }\n",
       "\n",
       "    .dataframe tbody tr th {\n",
       "        vertical-align: top;\n",
       "    }\n",
       "\n",
       "    .dataframe thead th {\n",
       "        text-align: right;\n",
       "    }\n",
       "</style>\n",
       "<table border=\"1\" class=\"dataframe\">\n",
       "  <thead>\n",
       "    <tr style=\"text-align: right;\">\n",
       "      <th></th>\n",
       "      <th>Date</th>\n",
       "      <th>Open</th>\n",
       "      <th>High</th>\n",
       "      <th>Low</th>\n",
       "      <th>Close</th>\n",
       "    </tr>\n",
       "    <tr>\n",
       "      <th>Date</th>\n",
       "      <th></th>\n",
       "      <th></th>\n",
       "      <th></th>\n",
       "      <th></th>\n",
       "      <th></th>\n",
       "    </tr>\n",
       "  </thead>\n",
       "  <tbody>\n",
       "    <tr>\n",
       "      <th>2023-08-21</th>\n",
       "      <td>21/08/2023</td>\n",
       "      <td>0.224160</td>\n",
       "      <td>0.224449</td>\n",
       "      <td>0.223040</td>\n",
       "      <td>0.223388</td>\n",
       "    </tr>\n",
       "    <tr>\n",
       "      <th>2023-08-22</th>\n",
       "      <td>22/08/2023</td>\n",
       "      <td>0.223392</td>\n",
       "      <td>0.224329</td>\n",
       "      <td>0.223319</td>\n",
       "      <td>0.223753</td>\n",
       "    </tr>\n",
       "    <tr>\n",
       "      <th>2023-08-23</th>\n",
       "      <td>23/08/2023</td>\n",
       "      <td>0.223753</td>\n",
       "      <td>0.224114</td>\n",
       "      <td>0.222921</td>\n",
       "      <td>0.223886</td>\n",
       "    </tr>\n",
       "    <tr>\n",
       "      <th>2023-08-24</th>\n",
       "      <td>24/08/2023</td>\n",
       "      <td>0.223877</td>\n",
       "      <td>0.223992</td>\n",
       "      <td>0.223071</td>\n",
       "      <td>0.223254</td>\n",
       "    </tr>\n",
       "    <tr>\n",
       "      <th>2023-08-25</th>\n",
       "      <td>25/08/2023</td>\n",
       "      <td>0.223231</td>\n",
       "      <td>0.224305</td>\n",
       "      <td>0.223222</td>\n",
       "      <td>0.223768</td>\n",
       "    </tr>\n",
       "  </tbody>\n",
       "</table>\n",
       "</div>"
      ],
      "text/plain": [
       "                  Date      Open      High       Low     Close\n",
       "Date                                                          \n",
       "2023-08-21  21/08/2023  0.224160  0.224449  0.223040  0.223388\n",
       "2023-08-22  22/08/2023  0.223392  0.224329  0.223319  0.223753\n",
       "2023-08-23  23/08/2023  0.223753  0.224114  0.222921  0.223886\n",
       "2023-08-24  24/08/2023  0.223877  0.223992  0.223071  0.223254\n",
       "2023-08-25  25/08/2023  0.223231  0.224305  0.223222  0.223768"
      ]
     },
     "execution_count": 51,
     "metadata": {},
     "output_type": "execute_result"
    }
   ],
   "source": [
    "pln.tail()"
   ]
  },
  {
   "cell_type": "code",
   "execution_count": 52,
   "id": "ebda3b3e-f364-4956-a335-751421692520",
   "metadata": {},
   "outputs": [],
   "source": [
    "# Data from 02.02.2000 to 21.08.2023"
   ]
  },
  {
   "cell_type": "code",
   "execution_count": 53,
   "id": "da4e594d-1249-49b3-a165-d91e25a54dcd",
   "metadata": {},
   "outputs": [
    {
     "data": {
      "image/png": "[encoded data removed]",
      "text/plain": [
       "<Figure size 1000x1000 with 1 Axes>"
      ]
     },
     "metadata": {},
     "output_type": "display_data"
    }
   ],
   "source": [
    "plt.figure(figsize=(10, 10))\n",
    "plt.title('PLN / EUR')\n",
    "plt.plot(pln['Close'].index, pln['Close'], color='navy')\n",
    "plt.xlabel('Date')\n",
    "plt.ylabel('Exchange Rate')\n",
    "\n",
    "plt.show()"
   ]
  },
  {
   "cell_type": "code",
   "execution_count": 54,
   "id": "7c3550f3-e500-491e-b7ce-70c476d20b11",
   "metadata": {},
   "outputs": [
    {
     "name": "stdout",
     "output_type": "stream",
     "text": [
      "0.31225 31/07/2008\n"
     ]
    }
   ],
   "source": [
    "max_pln = pln['Close'].max()\n",
    "selected_row = pln[pln['Close'] == max_pln]\n",
    "max_pln_date = selected_row['Date'].values[0]\n",
    "print(max_pln , max_pln_date )"
   ]
  },
  {
   "cell_type": "code",
   "execution_count": 55,
   "id": "e41582bd-54b9-4744-a750-e2dcd034b5a1",
   "metadata": {},
   "outputs": [],
   "source": [
    "# The maximamal rate exchange we noticed on 31th of July 2008. That day 1 PLN = 1 EUR * 0.31225"
   ]
  },
  {
   "cell_type": "code",
   "execution_count": 56,
   "id": "ee19968d-96f4-4334-98c9-5ffb1bf9fbf6",
   "metadata": {},
   "outputs": [
    {
     "name": "stdout",
     "output_type": "stream",
     "text": [
      "0.20075 07/03/2022\n"
     ]
    }
   ],
   "source": [
    "min_pln = pln['Close'].min()\n",
    "selected_row = pln[pln['Close'] == min_pln]\n",
    "min_pln_date = selected_row['Date'].values[0]\n",
    "print(min_pln , min_pln_date )\n"
   ]
  },
  {
   "cell_type": "code",
   "execution_count": 57,
   "id": "2cb75489-43ae-42c8-9e6d-fd232975c77a",
   "metadata": {},
   "outputs": [],
   "source": [
    "# On 7th of March 2022 we had the lowest rate exchange, 1 PLN = 1 EUR * 0.20075"
   ]
  },
  {
   "cell_type": "code",
   "execution_count": 58,
   "id": "3b760274-0059-45f4-aec8-9bb3cc705b90",
   "metadata": {},
   "outputs": [],
   "source": [
    "# Now we would like to finde trend funcion. \n",
    "#To do that we need to use following formula y=a + b*t, where for parameters a and b we have formulas.\n",
    "# Firstly we have to find n - number of all obserwations (days)."
   ]
  },
  {
   "cell_type": "code",
   "execution_count": 59,
   "id": "b7bb4531-c963-43c3-b7c4-27d5a017d12d",
   "metadata": {},
   "outputs": [
    {
     "name": "stdout",
     "output_type": "stream",
     "text": [
      "(6021, 5)\n"
     ]
    }
   ],
   "source": [
    "print(pln.shape)"
   ]
  },
  {
   "cell_type": "code",
   "execution_count": 61,
   "id": "5127079f-4a78-4763-a93c-d5a397be837f",
   "metadata": {},
   "outputs": [],
   "source": [
    "# We have 6021 rows. It implies that n=6021.\n",
    "# Let us made column with auxiliary variables t. \n",
    "# Variables t are going to be consecutive natural numbers."
   ]
  },
  {
   "cell_type": "code",
   "execution_count": 62,
   "id": "51241494-3fdd-48d8-a2d0-82b244c0cdcc",
   "metadata": {},
   "outputs": [],
   "source": [
    "n = 6021\n",
    "pln['t'] = range(1,6022)\n",
    "# Start from 1, make 6021 rows (1 + 6021)"
   ]
  },
  {
   "cell_type": "code",
   "execution_count": 63,
   "id": "cf2f9669-2474-42eb-945c-0e7a68b3b7ff",
   "metadata": {},
   "outputs": [
    {
     "data": {
      "text/html": [
       "<div>\n",
       "<style scoped>\n",
       "    .dataframe tbody tr th:only-of-type {\n",
       "        vertical-align: middle;\n",
       "    }\n",
       "\n",
       "    .dataframe tbody tr th {\n",
       "        vertical-align: top;\n",
       "    }\n",
       "\n",
       "    .dataframe thead th {\n",
       "        text-align: right;\n",
       "    }\n",
       "</style>\n",
       "<table border=\"1\" class=\"dataframe\">\n",
       "  <thead>\n",
       "    <tr style=\"text-align: right;\">\n",
       "      <th></th>\n",
       "      <th>Date</th>\n",
       "      <th>Open</th>\n",
       "      <th>High</th>\n",
       "      <th>Low</th>\n",
       "      <th>Close</th>\n",
       "      <th>t</th>\n",
       "    </tr>\n",
       "    <tr>\n",
       "      <th>Date</th>\n",
       "      <th></th>\n",
       "      <th></th>\n",
       "      <th></th>\n",
       "      <th></th>\n",
       "      <th></th>\n",
       "      <th></th>\n",
       "    </tr>\n",
       "  </thead>\n",
       "  <tbody>\n",
       "    <tr>\n",
       "      <th>2000-02-02</th>\n",
       "      <td>02/02/2000</td>\n",
       "      <td>0.24215</td>\n",
       "      <td>0.24215</td>\n",
       "      <td>0.24215</td>\n",
       "      <td>0.24215</td>\n",
       "      <td>1</td>\n",
       "    </tr>\n",
       "    <tr>\n",
       "      <th>2000-02-03</th>\n",
       "      <td>03/02/2000</td>\n",
       "      <td>0.24329</td>\n",
       "      <td>0.24329</td>\n",
       "      <td>0.24329</td>\n",
       "      <td>0.24329</td>\n",
       "      <td>2</td>\n",
       "    </tr>\n",
       "    <tr>\n",
       "      <th>2000-02-04</th>\n",
       "      <td>04/02/2000</td>\n",
       "      <td>0.24180</td>\n",
       "      <td>0.24180</td>\n",
       "      <td>0.24180</td>\n",
       "      <td>0.24180</td>\n",
       "      <td>3</td>\n",
       "    </tr>\n",
       "    <tr>\n",
       "      <th>2000-02-07</th>\n",
       "      <td>07/02/2000</td>\n",
       "      <td>0.24403</td>\n",
       "      <td>0.24403</td>\n",
       "      <td>0.24403</td>\n",
       "      <td>0.24403</td>\n",
       "      <td>4</td>\n",
       "    </tr>\n",
       "    <tr>\n",
       "      <th>2000-02-08</th>\n",
       "      <td>08/02/2000</td>\n",
       "      <td>0.24476</td>\n",
       "      <td>0.24476</td>\n",
       "      <td>0.24476</td>\n",
       "      <td>0.24476</td>\n",
       "      <td>5</td>\n",
       "    </tr>\n",
       "  </tbody>\n",
       "</table>\n",
       "</div>"
      ],
      "text/plain": [
       "                  Date     Open     High      Low    Close  t\n",
       "Date                                                         \n",
       "2000-02-02  02/02/2000  0.24215  0.24215  0.24215  0.24215  1\n",
       "2000-02-03  03/02/2000  0.24329  0.24329  0.24329  0.24329  2\n",
       "2000-02-04  04/02/2000  0.24180  0.24180  0.24180  0.24180  3\n",
       "2000-02-07  07/02/2000  0.24403  0.24403  0.24403  0.24403  4\n",
       "2000-02-08  08/02/2000  0.24476  0.24476  0.24476  0.24476  5"
      ]
     },
     "execution_count": 63,
     "metadata": {},
     "output_type": "execute_result"
    }
   ],
   "source": [
    "pln.head()"
   ]
  },
  {
   "cell_type": "code",
   "execution_count": 64,
   "id": "3b471c7a-387d-4b4b-af96-570fcbf0927e",
   "metadata": {},
   "outputs": [],
   "source": [
    "# Now, we need y*t and t^2"
   ]
  },
  {
   "cell_type": "code",
   "execution_count": 65,
   "id": "19033f7b-5713-4e32-beba-1c19722ff692",
   "metadata": {},
   "outputs": [],
   "source": [
    "pln['y*t'] = pln['Close'] * pln['t']\n",
    "pln['t^2'] = pow(pln['t'], 2)"
   ]
  },
  {
   "cell_type": "code",
   "execution_count": 66,
   "id": "e59c88da-8a85-4234-a38a-e228e1b2d46d",
   "metadata": {},
   "outputs": [
    {
     "data": {
      "text/html": [
       "<div>\n",
       "<style scoped>\n",
       "    .dataframe tbody tr th:only-of-type {\n",
       "        vertical-align: middle;\n",
       "    }\n",
       "\n",
       "    .dataframe tbody tr th {\n",
       "        vertical-align: top;\n",
       "    }\n",
       "\n",
       "    .dataframe thead th {\n",
       "        text-align: right;\n",
       "    }\n",
       "</style>\n",
       "<table border=\"1\" class=\"dataframe\">\n",
       "  <thead>\n",
       "    <tr style=\"text-align: right;\">\n",
       "      <th></th>\n",
       "      <th>Date</th>\n",
       "      <th>Open</th>\n",
       "      <th>High</th>\n",
       "      <th>Low</th>\n",
       "      <th>Close</th>\n",
       "      <th>t</th>\n",
       "      <th>y*t</th>\n",
       "      <th>t^2</th>\n",
       "    </tr>\n",
       "    <tr>\n",
       "      <th>Date</th>\n",
       "      <th></th>\n",
       "      <th></th>\n",
       "      <th></th>\n",
       "      <th></th>\n",
       "      <th></th>\n",
       "      <th></th>\n",
       "      <th></th>\n",
       "      <th></th>\n",
       "    </tr>\n",
       "  </thead>\n",
       "  <tbody>\n",
       "    <tr>\n",
       "      <th>2000-02-02</th>\n",
       "      <td>02/02/2000</td>\n",
       "      <td>0.24215</td>\n",
       "      <td>0.24215</td>\n",
       "      <td>0.24215</td>\n",
       "      <td>0.24215</td>\n",
       "      <td>1</td>\n",
       "      <td>0.24215</td>\n",
       "      <td>1</td>\n",
       "    </tr>\n",
       "    <tr>\n",
       "      <th>2000-02-03</th>\n",
       "      <td>03/02/2000</td>\n",
       "      <td>0.24329</td>\n",
       "      <td>0.24329</td>\n",
       "      <td>0.24329</td>\n",
       "      <td>0.24329</td>\n",
       "      <td>2</td>\n",
       "      <td>0.48658</td>\n",
       "      <td>4</td>\n",
       "    </tr>\n",
       "    <tr>\n",
       "      <th>2000-02-04</th>\n",
       "      <td>04/02/2000</td>\n",
       "      <td>0.24180</td>\n",
       "      <td>0.24180</td>\n",
       "      <td>0.24180</td>\n",
       "      <td>0.24180</td>\n",
       "      <td>3</td>\n",
       "      <td>0.72540</td>\n",
       "      <td>9</td>\n",
       "    </tr>\n",
       "    <tr>\n",
       "      <th>2000-02-07</th>\n",
       "      <td>07/02/2000</td>\n",
       "      <td>0.24403</td>\n",
       "      <td>0.24403</td>\n",
       "      <td>0.24403</td>\n",
       "      <td>0.24403</td>\n",
       "      <td>4</td>\n",
       "      <td>0.97612</td>\n",
       "      <td>16</td>\n",
       "    </tr>\n",
       "    <tr>\n",
       "      <th>2000-02-08</th>\n",
       "      <td>08/02/2000</td>\n",
       "      <td>0.24476</td>\n",
       "      <td>0.24476</td>\n",
       "      <td>0.24476</td>\n",
       "      <td>0.24476</td>\n",
       "      <td>5</td>\n",
       "      <td>1.22380</td>\n",
       "      <td>25</td>\n",
       "    </tr>\n",
       "  </tbody>\n",
       "</table>\n",
       "</div>"
      ],
      "text/plain": [
       "                  Date     Open     High      Low    Close  t      y*t  t^2\n",
       "Date                                                                       \n",
       "2000-02-02  02/02/2000  0.24215  0.24215  0.24215  0.24215  1  0.24215    1\n",
       "2000-02-03  03/02/2000  0.24329  0.24329  0.24329  0.24329  2  0.48658    4\n",
       "2000-02-04  04/02/2000  0.24180  0.24180  0.24180  0.24180  3  0.72540    9\n",
       "2000-02-07  07/02/2000  0.24403  0.24403  0.24403  0.24403  4  0.97612   16\n",
       "2000-02-08  08/02/2000  0.24476  0.24476  0.24476  0.24476  5  1.22380   25"
      ]
     },
     "execution_count": 66,
     "metadata": {},
     "output_type": "execute_result"
    }
   ],
   "source": [
    "pln.head()"
   ]
  },
  {
   "cell_type": "code",
   "execution_count": 67,
   "id": "cb0b7710-0a2e-4652-a1fb-3c5f7c24c5c7",
   "metadata": {},
   "outputs": [],
   "source": [
    "# To calculate parameter b we need sums of inserted columns "
   ]
  },
  {
   "cell_type": "code",
   "execution_count": 68,
   "id": "d2586eda-5b55-4c6d-b534-bd781367e16d",
   "metadata": {},
   "outputs": [],
   "source": [
    "Close = pln['Close'].sum()\n",
    "t = pln['t'].sum()\n",
    "t2 = pln['t^2'].sum()\n",
    "yt = pln['y*t'].sum()"
   ]
  },
  {
   "cell_type": "code",
   "execution_count": 69,
   "id": "c3c5746b-1f45-42ed-bbf5-f336f657bc69",
   "metadata": {},
   "outputs": [
    {
     "name": "stdout",
     "output_type": "stream",
     "text": [
      "Total sum of column 'Close' is  1450.37771\n",
      "Total sum of column 't' is  18129231\n",
      "Total sum of column 't^2' is  72776776311\n",
      "Total sum of column 'y*t' is  4252738.988519\n"
     ]
    }
   ],
   "source": [
    "print(\"Total sum of column 'Close' is \", Close)\n",
    "print(\"Total sum of column 't' is \", t)\n",
    "print(\"Total sum of column 't^2' is \", t2)\n",
    "print(\"Total sum of column 'y*t' is \", yt)"
   ]
  },
  {
   "cell_type": "code",
   "execution_count": 70,
   "id": "ea4dc899-0be2-4a05-938d-1bd9ffadf8ed",
   "metadata": {},
   "outputs": [],
   "source": [
    "b = (n * yt - t * Close) / (n* t2 - pow(t,2)) "
   ]
  },
  {
   "cell_type": "code",
   "execution_count": 71,
   "id": "e8366c32-4d50-4684-8075-24dc25255649",
   "metadata": {},
   "outputs": [
    {
     "name": "stdout",
     "output_type": "stream",
     "text": [
      "-688491091.968113\n",
      "109519953517170\n"
     ]
    }
   ],
   "source": [
    "print((n * yt - t * Close))\n",
    "print((n* t2 - pow(t,2)))"
   ]
  },
  {
   "cell_type": "code",
   "execution_count": 72,
   "id": "c32042fa-5b00-4106-9f61-fac7df64ceb8",
   "metadata": {},
   "outputs": [
    {
     "name": "stdout",
     "output_type": "stream",
     "text": [
      "Parameter b is -6.286444340575571e-06\n"
     ]
    }
   ],
   "source": [
    "print('Parameter b is', b)"
   ]
  },
  {
   "cell_type": "code",
   "execution_count": 73,
   "id": "8c680d62-dfd0-4dd4-84cf-37c3b71a5270",
   "metadata": {},
   "outputs": [],
   "source": [
    "# The difference between the PLN and the EUR decreased slightly\n",
    "#It decreased on average by b"
   ]
  },
  {
   "cell_type": "code",
   "execution_count": 74,
   "id": "99ef301f-0a8d-4be3-aaea-dc722950afd2",
   "metadata": {},
   "outputs": [],
   "source": [
    "mean_Close = st.mean(pln['Close'])\n",
    "mean_t = st.mean(pln['t'])"
   ]
  },
  {
   "cell_type": "code",
   "execution_count": 75,
   "id": "5b16484a-95a0-4d7c-9b34-3a2f2bf1cd8b",
   "metadata": {},
   "outputs": [
    {
     "name": "stdout",
     "output_type": "stream",
     "text": [
      "Avarage of Close values is equal to 0.2408865155289819\n",
      "Avarage of t values is equal to 3011\n"
     ]
    }
   ],
   "source": [
    "print('Avarage of Close values is equal to',mean_Close)\n",
    "print('Avarage of t values is equal to',mean_t)"
   ]
  },
  {
   "cell_type": "code",
   "execution_count": 76,
   "id": "f37fa579-d68b-4fe4-8030-63595f6f10d4",
   "metadata": {},
   "outputs": [
    {
     "name": "stdout",
     "output_type": "stream",
     "text": [
      "Parameter a is 0.25981499943845493\n"
     ]
    }
   ],
   "source": [
    "a = mean_Close - b* mean_t\n",
    "print('Parameter a is', a)"
   ]
  },
  {
   "cell_type": "code",
   "execution_count": 77,
   "id": "7dda55b8-34d0-49b5-99cd-4cab177d221e",
   "metadata": {},
   "outputs": [],
   "source": [
    "# Value a inform us about teoretical exchange rate in day 0 (t=0).\n",
    "# To make a forcast we need t for following days."
   ]
  },
  {
   "cell_type": "code",
   "execution_count": 78,
   "id": "429f7fc6-f202-4926-aa4e-4b60972f660e",
   "metadata": {},
   "outputs": [
    {
     "data": {
      "text/html": [
       "<div>\n",
       "<style scoped>\n",
       "    .dataframe tbody tr th:only-of-type {\n",
       "        vertical-align: middle;\n",
       "    }\n",
       "\n",
       "    .dataframe tbody tr th {\n",
       "        vertical-align: top;\n",
       "    }\n",
       "\n",
       "    .dataframe thead th {\n",
       "        text-align: right;\n",
       "    }\n",
       "</style>\n",
       "<table border=\"1\" class=\"dataframe\">\n",
       "  <thead>\n",
       "    <tr style=\"text-align: right;\">\n",
       "      <th></th>\n",
       "      <th>Date</th>\n",
       "      <th>Open</th>\n",
       "      <th>High</th>\n",
       "      <th>Low</th>\n",
       "      <th>Close</th>\n",
       "      <th>t</th>\n",
       "      <th>y*t</th>\n",
       "      <th>t^2</th>\n",
       "    </tr>\n",
       "    <tr>\n",
       "      <th>Date</th>\n",
       "      <th></th>\n",
       "      <th></th>\n",
       "      <th></th>\n",
       "      <th></th>\n",
       "      <th></th>\n",
       "      <th></th>\n",
       "      <th></th>\n",
       "      <th></th>\n",
       "    </tr>\n",
       "  </thead>\n",
       "  <tbody>\n",
       "    <tr>\n",
       "      <th>2023-08-21</th>\n",
       "      <td>21/08/2023</td>\n",
       "      <td>0.224160</td>\n",
       "      <td>0.224449</td>\n",
       "      <td>0.223040</td>\n",
       "      <td>0.223388</td>\n",
       "      <td>6017</td>\n",
       "      <td>1344.125596</td>\n",
       "      <td>36204289</td>\n",
       "    </tr>\n",
       "    <tr>\n",
       "      <th>2023-08-22</th>\n",
       "      <td>22/08/2023</td>\n",
       "      <td>0.223392</td>\n",
       "      <td>0.224329</td>\n",
       "      <td>0.223319</td>\n",
       "      <td>0.223753</td>\n",
       "      <td>6018</td>\n",
       "      <td>1346.545554</td>\n",
       "      <td>36216324</td>\n",
       "    </tr>\n",
       "    <tr>\n",
       "      <th>2023-08-23</th>\n",
       "      <td>23/08/2023</td>\n",
       "      <td>0.223753</td>\n",
       "      <td>0.224114</td>\n",
       "      <td>0.222921</td>\n",
       "      <td>0.223886</td>\n",
       "      <td>6019</td>\n",
       "      <td>1347.569834</td>\n",
       "      <td>36228361</td>\n",
       "    </tr>\n",
       "    <tr>\n",
       "      <th>2023-08-24</th>\n",
       "      <td>24/08/2023</td>\n",
       "      <td>0.223877</td>\n",
       "      <td>0.223992</td>\n",
       "      <td>0.223071</td>\n",
       "      <td>0.223254</td>\n",
       "      <td>6020</td>\n",
       "      <td>1343.989080</td>\n",
       "      <td>36240400</td>\n",
       "    </tr>\n",
       "    <tr>\n",
       "      <th>2023-08-25</th>\n",
       "      <td>25/08/2023</td>\n",
       "      <td>0.223231</td>\n",
       "      <td>0.224305</td>\n",
       "      <td>0.223222</td>\n",
       "      <td>0.223768</td>\n",
       "      <td>6021</td>\n",
       "      <td>1347.307128</td>\n",
       "      <td>36252441</td>\n",
       "    </tr>\n",
       "  </tbody>\n",
       "</table>\n",
       "</div>"
      ],
      "text/plain": [
       "                  Date      Open      High       Low     Close     t  \\\n",
       "Date                                                                   \n",
       "2023-08-21  21/08/2023  0.224160  0.224449  0.223040  0.223388  6017   \n",
       "2023-08-22  22/08/2023  0.223392  0.224329  0.223319  0.223753  6018   \n",
       "2023-08-23  23/08/2023  0.223753  0.224114  0.222921  0.223886  6019   \n",
       "2023-08-24  24/08/2023  0.223877  0.223992  0.223071  0.223254  6020   \n",
       "2023-08-25  25/08/2023  0.223231  0.224305  0.223222  0.223768  6021   \n",
       "\n",
       "                    y*t       t^2  \n",
       "Date                               \n",
       "2023-08-21  1344.125596  36204289  \n",
       "2023-08-22  1346.545554  36216324  \n",
       "2023-08-23  1347.569834  36228361  \n",
       "2023-08-24  1343.989080  36240400  \n",
       "2023-08-25  1347.307128  36252441  "
      ]
     },
     "execution_count": 78,
     "metadata": {},
     "output_type": "execute_result"
    }
   ],
   "source": [
    "pln.tail()"
   ]
  },
  {
   "cell_type": "code",
   "execution_count": 79,
   "id": "900fa84c-7312-469b-973f-543a6eaa5e1a",
   "metadata": {},
   "outputs": [],
   "source": [
    "# Last day in ours data is 25th of August 2023.\n",
    "# Let us make a forcast for the rest of 2023 and 2024."
   ]
  },
  {
   "cell_type": "code",
   "execution_count": 80,
   "id": "1411a98c-a051-493e-a923-bdac7ec20cc0",
   "metadata": {},
   "outputs": [
    {
     "name": "stdout",
     "output_type": "stream",
     "text": [
      "          Date\n",
      "0   2023-08-26\n",
      "1   2023-08-27\n",
      "2   2023-08-28\n",
      "3   2023-08-29\n",
      "4   2023-08-30\n",
      "..         ...\n",
      "489 2024-12-27\n",
      "490 2024-12-28\n",
      "491 2024-12-29\n",
      "492 2024-12-30\n",
      "493 2024-12-31\n",
      "\n",
      "[494 rows x 1 columns]\n"
     ]
    }
   ],
   "source": [
    "start_date = '2023-08-26'\n",
    "end_date = '2024-12-31'\n",
    "date_range = pd.date_range(start=start_date, end=end_date, freq='D')\n",
    "\n",
    "pln_fc = pd.DataFrame({'Date': date_range})\n",
    "\n",
    "# Print the DataFrame\n",
    "print(pln_fc)"
   ]
  },
  {
   "cell_type": "code",
   "execution_count": 81,
   "id": "828242a3-19e1-487e-af39-cce00725f92c",
   "metadata": {},
   "outputs": [
    {
     "name": "stdout",
     "output_type": "stream",
     "text": [
      "In this year we need forcast for days :  128\n"
     ]
    }
   ],
   "source": [
    "d_23 = 365 - 31 -28 -31 -30- 31 -30 -31 -25\n",
    "# 365 - all days from 1st of January to 25th of August\n",
    "print('In this year we need forcast for days : ',d_23)"
   ]
  },
  {
   "cell_type": "code",
   "execution_count": 82,
   "id": "89efbfd0-e75d-4272-a02c-2d0be2c5aa96",
   "metadata": {},
   "outputs": [
    {
     "name": "stdout",
     "output_type": "stream",
     "text": [
      "0\n"
     ]
    }
   ],
   "source": [
    "# Now, let's check if 2024 has 29 days in February\n",
    "d_24 = 2024%4\n",
    "print(d_24)"
   ]
  },
  {
   "cell_type": "code",
   "execution_count": 83,
   "id": "2212bb0a-bcf6-4367-bf40-c3d1baf41e99",
   "metadata": {},
   "outputs": [
    {
     "name": "stdout",
     "output_type": "stream",
     "text": [
      "Days to forcast : 494\n"
     ]
    }
   ],
   "source": [
    "# We got 0 and it means that in February 2024 we will have 29 days.\n",
    "d_fc = 128 + 366\n",
    "print('Days to forcast :', d_fc)"
   ]
  },
  {
   "cell_type": "code",
   "execution_count": 84,
   "id": "48e80db5-1483-4f89-b163-3d32eeef695a",
   "metadata": {},
   "outputs": [
    {
     "data": {
      "text/html": [
       "<div>\n",
       "<style scoped>\n",
       "    .dataframe tbody tr th:only-of-type {\n",
       "        vertical-align: middle;\n",
       "    }\n",
       "\n",
       "    .dataframe tbody tr th {\n",
       "        vertical-align: top;\n",
       "    }\n",
       "\n",
       "    .dataframe thead th {\n",
       "        text-align: right;\n",
       "    }\n",
       "</style>\n",
       "<table border=\"1\" class=\"dataframe\">\n",
       "  <thead>\n",
       "    <tr style=\"text-align: right;\">\n",
       "      <th></th>\n",
       "      <th>Date</th>\n",
       "      <th>t_fc</th>\n",
       "    </tr>\n",
       "  </thead>\n",
       "  <tbody>\n",
       "    <tr>\n",
       "      <th>0</th>\n",
       "      <td>2023-08-26</td>\n",
       "      <td>6022</td>\n",
       "    </tr>\n",
       "    <tr>\n",
       "      <th>1</th>\n",
       "      <td>2023-08-27</td>\n",
       "      <td>6023</td>\n",
       "    </tr>\n",
       "    <tr>\n",
       "      <th>2</th>\n",
       "      <td>2023-08-28</td>\n",
       "      <td>6024</td>\n",
       "    </tr>\n",
       "    <tr>\n",
       "      <th>3</th>\n",
       "      <td>2023-08-29</td>\n",
       "      <td>6025</td>\n",
       "    </tr>\n",
       "    <tr>\n",
       "      <th>4</th>\n",
       "      <td>2023-08-30</td>\n",
       "      <td>6026</td>\n",
       "    </tr>\n",
       "  </tbody>\n",
       "</table>\n",
       "</div>"
      ],
      "text/plain": [
       "        Date  t_fc\n",
       "0 2023-08-26  6022\n",
       "1 2023-08-27  6023\n",
       "2 2023-08-28  6024\n",
       "3 2023-08-29  6025\n",
       "4 2023-08-30  6026"
      ]
     },
     "execution_count": 84,
     "metadata": {},
     "output_type": "execute_result"
    }
   ],
   "source": [
    "pln_fc['t_fc'] = range(6022, 6516)\n",
    "pln_fc.head()"
   ]
  },
  {
   "cell_type": "code",
   "execution_count": 85,
   "id": "c2bb529f-364b-4925-86d5-25a7c170e7cd",
   "metadata": {},
   "outputs": [
    {
     "data": {
      "text/html": [
       "<div>\n",
       "<style scoped>\n",
       "    .dataframe tbody tr th:only-of-type {\n",
       "        vertical-align: middle;\n",
       "    }\n",
       "\n",
       "    .dataframe tbody tr th {\n",
       "        vertical-align: top;\n",
       "    }\n",
       "\n",
       "    .dataframe thead th {\n",
       "        text-align: right;\n",
       "    }\n",
       "</style>\n",
       "<table border=\"1\" class=\"dataframe\">\n",
       "  <thead>\n",
       "    <tr style=\"text-align: right;\">\n",
       "      <th></th>\n",
       "      <th>Date</th>\n",
       "      <th>t_fc</th>\n",
       "    </tr>\n",
       "  </thead>\n",
       "  <tbody>\n",
       "    <tr>\n",
       "      <th>489</th>\n",
       "      <td>2024-12-27</td>\n",
       "      <td>6511</td>\n",
       "    </tr>\n",
       "    <tr>\n",
       "      <th>490</th>\n",
       "      <td>2024-12-28</td>\n",
       "      <td>6512</td>\n",
       "    </tr>\n",
       "    <tr>\n",
       "      <th>491</th>\n",
       "      <td>2024-12-29</td>\n",
       "      <td>6513</td>\n",
       "    </tr>\n",
       "    <tr>\n",
       "      <th>492</th>\n",
       "      <td>2024-12-30</td>\n",
       "      <td>6514</td>\n",
       "    </tr>\n",
       "    <tr>\n",
       "      <th>493</th>\n",
       "      <td>2024-12-31</td>\n",
       "      <td>6515</td>\n",
       "    </tr>\n",
       "  </tbody>\n",
       "</table>\n",
       "</div>"
      ],
      "text/plain": [
       "          Date  t_fc\n",
       "489 2024-12-27  6511\n",
       "490 2024-12-28  6512\n",
       "491 2024-12-29  6513\n",
       "492 2024-12-30  6514\n",
       "493 2024-12-31  6515"
      ]
     },
     "execution_count": 85,
     "metadata": {},
     "output_type": "execute_result"
    }
   ],
   "source": [
    "pln_fc.tail()"
   ]
  },
  {
   "cell_type": "code",
   "execution_count": 86,
   "id": "8d10b6ae-f84a-4a68-bffa-214a71975c37",
   "metadata": {},
   "outputs": [
    {
     "data": {
      "text/html": [
       "<div>\n",
       "<style scoped>\n",
       "    .dataframe tbody tr th:only-of-type {\n",
       "        vertical-align: middle;\n",
       "    }\n",
       "\n",
       "    .dataframe tbody tr th {\n",
       "        vertical-align: top;\n",
       "    }\n",
       "\n",
       "    .dataframe thead th {\n",
       "        text-align: right;\n",
       "    }\n",
       "</style>\n",
       "<table border=\"1\" class=\"dataframe\">\n",
       "  <thead>\n",
       "    <tr style=\"text-align: right;\">\n",
       "      <th></th>\n",
       "      <th>Date</th>\n",
       "      <th>t_fc</th>\n",
       "      <th>Forcast</th>\n",
       "    </tr>\n",
       "  </thead>\n",
       "  <tbody>\n",
       "    <tr>\n",
       "      <th>0</th>\n",
       "      <td>2023-08-26</td>\n",
       "      <td>6022</td>\n",
       "      <td>0.221958</td>\n",
       "    </tr>\n",
       "    <tr>\n",
       "      <th>1</th>\n",
       "      <td>2023-08-27</td>\n",
       "      <td>6023</td>\n",
       "      <td>0.221952</td>\n",
       "    </tr>\n",
       "    <tr>\n",
       "      <th>2</th>\n",
       "      <td>2023-08-28</td>\n",
       "      <td>6024</td>\n",
       "      <td>0.221945</td>\n",
       "    </tr>\n",
       "    <tr>\n",
       "      <th>3</th>\n",
       "      <td>2023-08-29</td>\n",
       "      <td>6025</td>\n",
       "      <td>0.221939</td>\n",
       "    </tr>\n",
       "    <tr>\n",
       "      <th>4</th>\n",
       "      <td>2023-08-30</td>\n",
       "      <td>6026</td>\n",
       "      <td>0.221933</td>\n",
       "    </tr>\n",
       "  </tbody>\n",
       "</table>\n",
       "</div>"
      ],
      "text/plain": [
       "        Date  t_fc   Forcast\n",
       "0 2023-08-26  6022  0.221958\n",
       "1 2023-08-27  6023  0.221952\n",
       "2 2023-08-28  6024  0.221945\n",
       "3 2023-08-29  6025  0.221939\n",
       "4 2023-08-30  6026  0.221933"
      ]
     },
     "execution_count": 86,
     "metadata": {},
     "output_type": "execute_result"
    }
   ],
   "source": [
    "pln_fc['Forcast'] = a + pln_fc['t_fc'] * b\n",
    "pln_fc.head()"
   ]
  },
  {
   "cell_type": "code",
   "execution_count": 87,
   "id": "ea365976-fa9e-4081-80d0-57983f824a08",
   "metadata": {},
   "outputs": [],
   "source": [
    "pln_fc.index = pd.to_datetime(pln_fc['Date'],format=\"%d/%m/%Y\")"
   ]
  },
  {
   "cell_type": "code",
   "execution_count": 88,
   "id": "3fde2c68-3f84-4660-9e18-e302d7e45032",
   "metadata": {},
   "outputs": [
    {
     "data": {
      "image/png": "[encoded data removed]",
      "text/plain": [
       "<Figure size 1000x1000 with 1 Axes>"
      ]
     },
     "metadata": {},
     "output_type": "display_data"
    }
   ],
   "source": [
    "plt.figure(figsize=(10, 10))\n",
    "plt.title('PLN / EUR')\n",
    "plt.plot(pln['Close'].index, pln['Close'], color='black')\n",
    "plt.plot(pln_fc['Forcast'].index, pln_fc['Forcast'], color='red')\n",
    "plt.xlabel('Date')\n",
    "plt.ylabel('Exchange Rate')\n",
    "plt.show()"
   ]
  },
  {
   "cell_type": "code",
   "execution_count": 89,
   "id": "8ce2b9f1-f691-44ed-a760-6ead80d4602b",
   "metadata": {},
   "outputs": [],
   "source": [
    "# From plot we can see that difference between PLN and EUR is going to decrease.\n",
    "#Let us check if our forcast and real rate exchange are the same."
   ]
  },
  {
   "cell_type": "code",
   "execution_count": 90,
   "id": "9f391e86-756d-407f-b4dd-05e53b0ac51c",
   "metadata": {},
   "outputs": [
    {
     "name": "stdout",
     "output_type": "stream",
     "text": [
      "2023-08-28 0.2219454587308277\n"
     ]
    }
   ],
   "source": [
    "chose_date='2023-08-28'\n",
    "selected_row = pln_fc[pln_fc['Date'] == chose_date]\n",
    "forcast_for_chosen_date = selected_row['Forcast'].values[0]\n",
    "print(chose_date , forcast_for_chosen_date )"
   ]
  },
  {
   "cell_type": "code",
   "execution_count": 91,
   "id": "206b5ea2-518b-457a-99b3-44047cb1f1af",
   "metadata": {},
   "outputs": [],
   "source": [
    "# Acording to the data from stooq.com the closed value for 28th of August is 0.223702"
   ]
  }
 ],
 "metadata": {
  "kernelspec": {
   "display_name": "Python 3 (ipykernel)",
   "language": "python",
   "name": "python3"
  },
  "language_info": {
   "codemirror_mode": {
    "name": "ipython",
    "version": 3
   },
   "file_extension": ".py",
   "mimetype": "text/x-python",
   "name": "python",
   "nbconvert_exporter": "python",
   "pygments_lexer": "ipython3",
   "version": "3.11.4"
  }
 },
 "nbformat": 4,
 "nbformat_minor": 5
}
